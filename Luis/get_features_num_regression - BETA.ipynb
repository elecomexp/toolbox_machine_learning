{
 "cells": [
  {
   "cell_type": "code",
   "execution_count": 1,
   "metadata": {},
   "outputs": [],
   "source": [
    "import numpy as np\n",
    "import pandas as pd\n",
    "from scipy.stats import pearsonr\n",
    "import scipy.stats as stats"
   ]
  },
  {
   "cell_type": "code",
   "execution_count": 2,
   "metadata": {},
   "outputs": [],
   "source": [
    "df_housing = pd.read_csv(\"./data/ejemplo_housing.csv\")"
   ]
  },
  {
   "cell_type": "code",
   "execution_count": 79,
   "metadata": {},
   "outputs": [],
   "source": [
    "def get_features_num_regression(df, target_col, umbral_corr, pvalue=None):\n",
    "    \"\"\"\n",
    "    Obtiene columnas numéricas del DataFrame cuya correlación con la columna objetivo \n",
    "    supera un umbral especificado. Además, permite filtrar las columnas en función \n",
    "    de la significancia estadística de la correlación mediante un valor p.\n",
    "\n",
    "    Parámetros:\n",
    "\n",
    "    df (pd.DataFrame): DataFrame que contiene los datos a analizar.\n",
    "\n",
    "    target_col (str): Nombre de la columna objetivo que se desea predecir; debe ser \n",
    "                      una variable numérica continua o discreta con alta cardinalidad.\n",
    "\n",
    "    umbral_corr (float): Umbral de correlación absoluto para considerar una relación \n",
    "                         significativa entre las columnas (debe estar entre 0 y 1).\n",
    "\n",
    "    pvalue (float, opcional): Valor p que determina el nivel de significancia para \n",
    "                              filtrar las columnas. Si se proporciona, solo se incluirán \n",
    "                              las columnas cuya correlación supere el umbral y cuyo \n",
    "                              valor p sea mayor o igual a 1 - pvalue. Debe estar entre 0 y 1.\n",
    "\n",
    "    Retorna:\n",
    "\n",
    "    lista_num: Lista de nombres de columnas numéricas que cumplen con los criterios establecidos.\n",
    "               Si no hay columnas que cumplan los requisitos, se devuelve una lista vacía.\n",
    "\n",
    "    Excepciones:\n",
    "\n",
    "    Imprime mensajes de error si alguno de los argumentos no es válido o si hay problemas\n",
    "    con los tipos de datos.\n",
    "    \"\"\"\n",
    "\n",
    "\n",
    "    if not isinstance(df, pd.DataFrame):\n",
    "        print(f\"{df} no es un argumento válido. Chequea que sea un DataFrame.\")\n",
    "\n",
    "    \n",
    "    if target_col not in df.columns:\n",
    "        print(f\"{target_col} no es una columna del DataFrame.\")\n",
    "\n",
    "    if umbral_corr > 1 or umbral_corr < 0 or not isinstance(umbral_corr, (int,float)):\n",
    "        print(f\"{umbral_corr} no es un valor válido para 'umbral_corr', debe de estar comprendido entre 0 y 1.\")\n",
    "\n",
    "    if pvalue != None and  (pvalue > 1 or pvalue < 0 or not isinstance(umbral_corr, (int,float))):\n",
    "        print(f\"{pvalue} no es un valor válido para 'pvalue', debe deestar comprendido entre 0 y 1.\")\n",
    "\n",
    "\n",
    "    lista_num = []\n",
    "    for columna in df.columns:\n",
    "        if pd.api.types.is_numeric_dtype(df[columna]):\n",
    "            resultado_test = pearsonr(df[columna], df[target_col], alternative= \"less\")\n",
    "            if pvalue == None:\n",
    "                if abs(resultado_test[0]) > umbral_corr:\n",
    "                    lista_num.append(columna)\n",
    "            else:\n",
    "               if abs(resultado_test[0]) > umbral_corr:\n",
    "                   if resultado_test[1] >= 1-pvalue:\n",
    "                       lista_num.append(columna)\n",
    "                    \n",
    "    lista_num.remove(target_col)\n",
    "    \n",
    "    return lista_num\n"
   ]
  },
  {
   "cell_type": "code",
   "execution_count": 80,
   "metadata": {},
   "outputs": [
    {
     "data": {
      "text/plain": [
       "['housing_median_age', 'total_rooms', 'median_income']"
      ]
     },
     "execution_count": 80,
     "metadata": {},
     "output_type": "execute_result"
    }
   ],
   "source": [
    "get_features_num_regression(df_housing, \"median_house_value\", umbral_corr = 0.07, pvalue = 0.40)"
   ]
  }
 ],
 "metadata": {
  "kernelspec": {
   "display_name": "Python 3",
   "language": "python",
   "name": "python3"
  },
  "language_info": {
   "codemirror_mode": {
    "name": "ipython",
    "version": 3
   },
   "file_extension": ".py",
   "mimetype": "text/x-python",
   "name": "python",
   "nbconvert_exporter": "python",
   "pygments_lexer": "ipython3",
   "version": "3.12.3"
  }
 },
 "nbformat": 4,
 "nbformat_minor": 2
}
