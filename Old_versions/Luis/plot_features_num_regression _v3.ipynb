{
 "cells": [
  {
   "cell_type": "code",
   "execution_count": 89,
   "metadata": {},
   "outputs": [],
   "source": [
    "import numpy as np\n",
    "import pandas as pd\n",
    "from scipy.stats import pearsonr\n",
    "import scipy.stats as stats\n",
    "import seaborn as sns\n",
    "import matplotlib.pyplot as plt"
   ]
  },
  {
   "cell_type": "code",
   "execution_count": 90,
   "metadata": {},
   "outputs": [],
   "source": [
    "df_housing = pd.read_csv(\"./data/ejemplo_housing.csv\")"
   ]
  },
  {
   "cell_type": "code",
   "execution_count": 91,
   "metadata": {},
   "outputs": [],
   "source": [
    "def plot_features_num_regression(df:pd.DataFrame, target_col:str, umbral_corr, columns = [], pvalue=None, umbral_card=10):\n",
    "\n",
    "    ### Falta el Docstring ##\n",
    "    \n",
    "    lista = get_features_num_regression(df, target_col, umbral_corr, pvalue, umbral_card) # Llama a la funcion para obtener el listado de features\n",
    "\n",
    "    if columns == [] and len(lista) <= 4: \n",
    "        lista.insert(0,target_col)\n",
    "        fig = sns.pairplot(df[lista]) \n",
    "        \n",
    "        \n",
    "    if columns != [] and len(columns) <= 4:\n",
    "        columns.insert(0,target_col)\n",
    "        sns.pairplot(df[columns]) \n",
    "    \n",
    "    if columns == [] and len(lista) > 4:\n",
    "\n",
    "        for i in range(0, len(lista), 4):\n",
    "            nueva_lista = lista[i:i + 4]\n",
    "            nueva_lista.insert(0,target_col)\n",
    "            sns.pairplot(df[nueva_lista])\n",
    "            \n",
    "\n",
    "    if columns != [] and len(columns) > 4:\n",
    "\n",
    "        for i in range(0, len(columns), 4):\n",
    "            nueva_columns = columns[i:i+4]\n",
    "            nueva_columns.insert(0,target_col)\n",
    "            sns.pairplot(df[nueva_columns])\n"
   ]
  },
  {
   "cell_type": "code",
   "execution_count": 1,
   "metadata": {},
   "outputs": [
    {
     "ename": "NameError",
     "evalue": "name 'plot_features_num_regression' is not defined",
     "output_type": "error",
     "traceback": [
      "\u001b[1;31m---------------------------------------------------------------------------\u001b[0m",
      "\u001b[1;31mNameError\u001b[0m                                 Traceback (most recent call last)",
      "Cell \u001b[1;32mIn[1], line 1\u001b[0m\n\u001b[1;32m----> 1\u001b[0m \u001b[43mplot_features_num_regression\u001b[49m(df_housing, target_col\u001b[38;5;241m=\u001b[39m\u001b[38;5;124m\"\u001b[39m\u001b[38;5;124mmedian_house_value\u001b[39m\u001b[38;5;124m\"\u001b[39m, columns\u001b[38;5;241m=\u001b[39m[\u001b[38;5;124m\"\u001b[39m\u001b[38;5;124mtotal_rooms\u001b[39m\u001b[38;5;124m\"\u001b[39m],umbral_corr \u001b[38;5;241m=\u001b[39m \u001b[38;5;241m0.07\u001b[39m,pvalue\u001b[38;5;241m=\u001b[39m\u001b[38;5;241m0.40\u001b[39m)\n",
      "\u001b[1;31mNameError\u001b[0m: name 'plot_features_num_regression' is not defined"
     ]
    }
   ],
   "source": [
    "plot_features_num_regression(df_housing, target_col=\"median_house_value\", columns=[\"total_rooms\"],umbral_corr = 0.07,pvalue=0.40)"
   ]
  }
 ],
 "metadata": {
  "kernelspec": {
   "display_name": "Python 3",
   "language": "python",
   "name": "python3"
  },
  "language_info": {
   "codemirror_mode": {
    "name": "ipython",
    "version": 3
   },
   "file_extension": ".py",
   "mimetype": "text/x-python",
   "name": "python",
   "nbconvert_exporter": "python",
   "pygments_lexer": "ipython3",
   "version": "3.12.3"
  }
 },
 "nbformat": 4,
 "nbformat_minor": 2
}
