{
 "cells": [
  {
   "cell_type": "markdown",
   "metadata": {},
   "source": [
    "# Notebook para testear las funciones de la librería `toolbox_ML`."
   ]
  },
  {
   "cell_type": "markdown",
   "metadata": {},
   "source": [
    "## Importar librerías"
   ]
  },
  {
   "cell_type": "code",
   "execution_count": 1,
   "metadata": {},
   "outputs": [],
   "source": [
    "import matplotlib.pyplot as plt\n",
    "import numpy as np\n",
    "import pandas as pd\n",
    "import seaborn as sns\n",
    "\n",
    "from sklearn.datasets import load_diabetes, load_iris\n",
    "\n",
    "import toolbox_ML as tb"
   ]
  },
  {
   "cell_type": "markdown",
   "metadata": {},
   "source": [
    "## Cargar datasets"
   ]
  },
  {
   "cell_type": "code",
   "execution_count": 2,
   "metadata": {},
   "outputs": [],
   "source": [
    "# Variables que NO son DataFrames\n",
    "varible_list = [1, 2, 3]\n",
    "\n",
    "# Cargar dataset en local\n",
    "df_ads = pd.read_csv('./data/advertising_ml.csv', index_col=None)\n",
    "df_boston = pd.read_csv('./data/boston_houses.csv', sep='|')\n",
    "df_housing = pd.read_csv('./data/ejemplo_housing.csv')\n",
    "df_lifesat = pd.read_csv('./data/lifesat_full.csv')\n",
    "df_titanic = pd.read_csv('./data/titanic.csv')\n",
    "\n",
    "# Importar datasets de sklearn.datasets\n",
    "df_iris = pd.DataFrame(load_iris()['data'], columns=load_iris()['feature_names'])\n",
    "df_diabetes = pd.DataFrame(load_diabetes()['data'], columns=load_diabetes()['feature_names'])"
   ]
  }
 ],
 "metadata": {
  "kernelspec": {
   "display_name": "Python 3",
   "language": "python",
   "name": "python3"
  },
  "language_info": {
   "codemirror_mode": {
    "name": "ipython",
    "version": 3
   },
   "file_extension": ".py",
   "mimetype": "text/x-python",
   "name": "python",
   "nbconvert_exporter": "python",
   "pygments_lexer": "ipython3",
   "version": "3.12.4"
  }
 },
 "nbformat": 4,
 "nbformat_minor": 2
}
